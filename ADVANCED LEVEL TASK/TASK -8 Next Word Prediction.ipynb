{
 "cells": [
  {
   "cell_type": "code",
   "execution_count": 1,
   "id": "8cd54cd4",
   "metadata": {},
   "outputs": [],
   "source": [
    "#Importing packages\n",
    "import numpy as np\n",
    "np.random.seed(42)\n",
    "import tensorflow as tf\n",
    "tf.random.set_seed(42)\n",
    " \n",
    "from tensorflow.keras.models import Sequential, load_model\n",
    "from tensorflow.keras.layers import Dense, Activation\n",
    "from tensorflow.keras.layers import LSTM, Dropout\n",
    "from tensorflow.keras.layers import TimeDistributed\n",
    "from tensorflow.keras.layers import Dense, Activation, Dropout, RepeatVector\n",
    "from tensorflow.keras.optimizers import  RMSprop\n",
    "import matplotlib.pyplot as plt\n",
    "import pickle\n",
    "import heapq"
   ]
  },
  {
   "cell_type": "code",
   "execution_count": 3,
   "id": "57a9c2b8",
   "metadata": {},
   "outputs": [
    {
     "name": "stdout",
     "output_type": "stream",
     "text": [
      "corpus length: 581888\n"
     ]
    }
   ],
   "source": [
    "path = 'C:/Users/Dharshana/Downloads/1661-0.txt'\n",
    "text = open(path, encoding=\"utf8\").read().lower()\n",
    "print('corpus length:', len(text))\n"
   ]
  },
  {
   "cell_type": "code",
   "execution_count": 4,
   "id": "6cafca71",
   "metadata": {},
   "outputs": [
    {
     "name": "stdout",
     "output_type": "stream",
     "text": [
      "unique chars: 73\n"
     ]
    }
   ],
   "source": [
    "\n",
    "#Data Preprocessing\n",
    "character = sorted(list(set(text)))\n",
    "char_indices = dict((c, i) for i, c in enumerate(character))\n",
    "indices_char = dict((i, c) for i, c in enumerate(character))\n",
    " \n",
    "print(f'unique chars: {len(character)}')"
   ]
  },
  {
   "cell_type": "code",
   "execution_count": 5,
   "id": "5b04edf8",
   "metadata": {},
   "outputs": [
    {
     "name": "stdout",
     "output_type": "stream",
     "text": [
      "num training examples: 193950\n"
     ]
    }
   ],
   "source": [
    "#chunk 40 characters with 3 sequences\n",
    "seq_len = 40\n",
    "step = 3\n",
    "sentences = []\n",
    "next_chars = []\n",
    "for i in range(0, len(text) - seq_len, step):\n",
    "    sentences.append(text[i: i + seq_len ])\n",
    "    next_chars.append(text[i + seq_len])\n",
    "print(f'num training examples: {len(sentences)}')\n",
    "     "
   ]
  },
  {
   "cell_type": "code",
   "execution_count": 6,
   "id": "d0329ea8",
   "metadata": {},
   "outputs": [
    {
     "name": "stderr",
     "output_type": "stream",
     "text": [
      "C:\\Users\\Dharshana\\AppData\\Local\\Temp/ipykernel_9844/2646091588.py:3: DeprecationWarning: `np.bool` is a deprecated alias for the builtin `bool`. To silence this warning, use `bool` by itself. Doing this will not modify any behavior and is safe. If you specifically wanted the numpy scalar type, use `np.bool_` here.\n",
      "Deprecated in NumPy 1.20; for more details and guidance: https://numpy.org/devdocs/release/1.20.0-notes.html#deprecations\n",
      "  X = np.zeros((len(sentences), seq_len, len(character)), dtype=np.bool)\n",
      "C:\\Users\\Dharshana\\AppData\\Local\\Temp/ipykernel_9844/2646091588.py:4: DeprecationWarning: `np.bool` is a deprecated alias for the builtin `bool`. To silence this warning, use `bool` by itself. Doing this will not modify any behavior and is safe. If you specifically wanted the numpy scalar type, use `np.bool_` here.\n",
      "Deprecated in NumPy 1.20; for more details and guidance: https://numpy.org/devdocs/release/1.20.0-notes.html#deprecations\n",
      "  y = np.zeros((len(sentences), len(character)), dtype=np.bool)\n"
     ]
    },
    {
     "data": {
      "text/plain": [
       "'e'"
      ]
     },
     "execution_count": 6,
     "metadata": {},
     "output_type": "execute_result"
    }
   ],
   "source": [
    "# generating our features and labels\n",
    "#one hot encoding\n",
    "X = np.zeros((len(sentences), seq_len, len(character)), dtype=np.bool)\n",
    "y = np.zeros((len(sentences), len(character)), dtype=np.bool)\n",
    "for i, sentence in enumerate(sentences):\n",
    "    for t, char in enumerate(sentence):\n",
    "        X[i, t, char_indices[char]] = 1\n",
    "    y[i, char_indices[next_chars[i]]] = 1\n",
    "\n",
    "sentences[124]\n",
    "next_chars[100]\n",
    "     "
   ]
  },
  {
   "cell_type": "code",
   "execution_count": 7,
   "id": "e9abcee3",
   "metadata": {},
   "outputs": [
    {
     "data": {
      "text/plain": [
       "array([False, False, False, False, False, False, False, False, False,\n",
       "       False, False, False, False, False, False, False, False, False,\n",
       "       False, False, False, False, False, False, False, False, False,\n",
       "       False, False, False, False, False, False, False, False, False,\n",
       "       False, False, False, False, False, False, False, False, False,\n",
       "       False, False, False, False, False, False, False, False, False,\n",
       "       False, False, False, False, False, False, False, False, False,\n",
       "       False, False, False, False, False, False, False, False, False,\n",
       "        True])"
      ]
     },
     "execution_count": 7,
     "metadata": {},
     "output_type": "execute_result"
    }
   ],
   "source": [
    "#one hot encoded data\n",
    "X[0][0]"
   ]
  },
  {
   "cell_type": "code",
   "execution_count": 8,
   "id": "5fce7495",
   "metadata": {},
   "outputs": [
    {
     "data": {
      "text/plain": [
       "array([False, False, False, False, False, False, False, False, False,\n",
       "       False, False, False, False, False, False, False, False, False,\n",
       "       False, False, False, False, False, False, False, False, False,\n",
       "       False, False, False, False, False, False, False, False, False,\n",
       "       False, False, False, False, False, False, False, False, False,\n",
       "       False, False, False, False, False, False,  True, False, False,\n",
       "       False, False, False, False, False, False, False, False, False,\n",
       "       False, False, False, False, False, False, False, False, False,\n",
       "       False])"
      ]
     },
     "execution_count": 8,
     "metadata": {},
     "output_type": "execute_result"
    }
   ],
   "source": [
    "#one hot encoded data\n",
    "y[0]\n",
    "    "
   ]
  },
  {
   "cell_type": "code",
   "execution_count": 9,
   "id": "e4977254",
   "metadata": {},
   "outputs": [
    {
     "data": {
      "text/plain": [
       "(193950, 40, 73)"
      ]
     },
     "execution_count": 9,
     "metadata": {},
     "output_type": "execute_result"
    }
   ],
   "source": [
    "X.shape"
   ]
  },
  {
   "cell_type": "code",
   "execution_count": 11,
   "id": "197ec09f",
   "metadata": {},
   "outputs": [
    {
     "data": {
      "text/plain": [
       "(193950, 73)"
      ]
     },
     "execution_count": 11,
     "metadata": {},
     "output_type": "execute_result"
    }
   ],
   "source": [
    "y.shape"
   ]
  },
  {
   "cell_type": "code",
   "execution_count": 12,
   "id": "3b9c51e4",
   "metadata": {},
   "outputs": [],
   "source": [
    "# Creating the model\n",
    "model = Sequential()\n",
    "model.add(LSTM(128, input_shape=(seq_len, len(character))))\n",
    "model.add(Dense(len(character)))\n",
    "model.add(Activation('softmax'))"
   ]
  },
  {
   "cell_type": "code",
   "execution_count": 13,
   "id": "bc28d7e3",
   "metadata": {},
   "outputs": [
    {
     "name": "stdout",
     "output_type": "stream",
     "text": [
      "Model: \"sequential\"\n",
      "_________________________________________________________________\n",
      " Layer (type)                Output Shape              Param #   \n",
      "=================================================================\n",
      " lstm (LSTM)                 (None, 128)               103424    \n",
      "                                                                 \n",
      " dense (Dense)               (None, 73)                9417      \n",
      "                                                                 \n",
      " activation (Activation)     (None, 73)                0         \n",
      "                                                                 \n",
      "=================================================================\n",
      "Total params: 112,841\n",
      "Trainable params: 112,841\n",
      "Non-trainable params: 0\n",
      "_________________________________________________________________\n",
      "You must install pydot (`pip install pydot`) and install graphviz (see instructions at https://graphviz.gitlab.io/download/) for plot_model to work.\n"
     ]
    }
   ],
   "source": [
    "\n",
    "model.summary()\n",
    "from tensorflow.keras.utils import plot_model\n",
    "plot_model(model, show_shapes=True, to_file='MnistExamplesModified.png')"
   ]
  },
  {
   "cell_type": "code",
   "execution_count": 16,
   "id": "c9b7d7be",
   "metadata": {},
   "outputs": [
    {
     "name": "stdout",
     "output_type": "stream",
     "text": [
      "Epoch 1/10\n",
      "1501/1501 [==============================] - 121s 79ms/step - loss: 1.2744 - accuracy: 0.6052 - val_loss: 2.0017 - val_accuracy: 0.4845\n",
      "Epoch 2/10\n",
      "1501/1501 [==============================] - 120s 80ms/step - loss: 1.2737 - accuracy: 0.6054 - val_loss: 1.9896 - val_accuracy: 0.4830\n",
      "Epoch 3/10\n",
      "1501/1501 [==============================] - 119s 79ms/step - loss: 1.2695 - accuracy: 0.6070 - val_loss: 2.0568 - val_accuracy: 0.4670\n",
      "Epoch 4/10\n",
      "1501/1501 [==============================] - 118s 78ms/step - loss: 1.2666 - accuracy: 0.6079 - val_loss: 1.9978 - val_accuracy: 0.4861\n",
      "Epoch 5/10\n",
      "1501/1501 [==============================] - 115s 77ms/step - loss: 1.2613 - accuracy: 0.6085 - val_loss: 2.0010 - val_accuracy: 0.4881\n",
      "Epoch 6/10\n",
      "1501/1501 [==============================] - 118s 78ms/step - loss: 1.2576 - accuracy: 0.6099 - val_loss: 1.9993 - val_accuracy: 0.4959\n",
      "Epoch 7/10\n",
      "1501/1501 [==============================] - 123s 82ms/step - loss: 1.2550 - accuracy: 0.6101 - val_loss: 2.0145 - val_accuracy: 0.4789\n",
      "Epoch 8/10\n",
      "1501/1501 [==============================] - 118s 78ms/step - loss: 1.2526 - accuracy: 0.6110 - val_loss: 1.9996 - val_accuracy: 0.4876\n",
      "Epoch 9/10\n",
      "1501/1501 [==============================] - 118s 79ms/step - loss: 1.2495 - accuracy: 0.6115 - val_loss: 1.9665 - val_accuracy: 0.4892\n",
      "Epoch 10/10\n",
      "1501/1501 [==============================] - 124s 82ms/step - loss: 1.2470 - accuracy: 0.6126 - val_loss: 2.0668 - val_accuracy: 0.4784\n"
     ]
    }
   ],
   "source": [
    "# Training our model\n",
    "optimizer = RMSprop(learning_rate=0.01)\n",
    "model.compile(loss='categorical_crossentropy', optimizer=optimizer, metrics=['accuracy'])\n",
    "history = model.fit(X, y,\n",
    "                    validation_split=0.01, \n",
    "                    batch_size=128,\n",
    "                    epochs=10, \n",
    "                    shuffle=True).history"
   ]
  },
  {
   "cell_type": "code",
   "execution_count": 17,
   "id": "c120a56c",
   "metadata": {},
   "outputs": [],
   "source": [
    "#saving our model\n",
    "model.save('keras_model.h5')\n",
    "pickle.dump(history, open(\"history.p\", \"wb\"))"
   ]
  },
  {
   "cell_type": "code",
   "execution_count": 18,
   "id": "2f2c5ef1",
   "metadata": {},
   "outputs": [],
   "source": [
    "\n",
    "#loading our model\n",
    "model = load_model('keras_model.h5')\n",
    "history = pickle.load(open(\"history.p\", \"rb\"))"
   ]
  },
  {
   "cell_type": "code",
   "execution_count": 19,
   "id": "ee363689",
   "metadata": {},
   "outputs": [
    {
     "name": "stdout",
     "output_type": "stream",
     "text": [
      "6061/6061 [==============================] - 97s 16ms/step - loss: 1.2126 - accuracy: 0.6233\n",
      "Test Loss 1.2126191854476929\n",
      "Test Accuracy 0.6232792139053345\n"
     ]
    }
   ],
   "source": [
    "#Model Evaluation\n",
    "loss_and_acc=model.evaluate(X,y)\n",
    "print(\"Test Loss\", loss_and_acc[0])\n",
    "print(\"Test Accuracy\", loss_and_acc[1])\n",
    "     "
   ]
  },
  {
   "cell_type": "code",
   "execution_count": 20,
   "id": "e2151f47",
   "metadata": {},
   "outputs": [
    {
     "data": {
      "image/png": "[encoded data removed]",
      "text/plain": [
       "<Figure size 1440x432 with 2 Axes>"
      ]
     },
     "metadata": {
      "needs_background": "light"
     },
     "output_type": "display_data"
    }
   ],
   "source": [
    "\n",
    "acc = history['accuracy']\n",
    "val_acc = history['val_accuracy']\n",
    "loss = history['loss']\n",
    "val_loss = history['val_loss']\n",
    "epochs = range(len(acc))\n",
    "\n",
    "\n",
    "\n",
    "fig, ax = plt.subplots(nrows=1, ncols=2, figsize=(20, 6))\n",
    "ax[0].plot(epochs, acc, 'r', label='Training accuracy')\n",
    "ax[0].plot(epochs, val_acc, 'b', label='Validation accuracy')\n",
    "ax[0].legend(loc=0)\n",
    "ax[1].plot(epochs, loss, 'r', label='Training loss')\n",
    "ax[1].plot(epochs, val_loss, 'b', label='Validation loss')\n",
    "ax[1].legend(loc=0)\n",
    "\n",
    "plt.suptitle('Training and validation')\n",
    "plt.show()"
   ]
  },
  {
   "cell_type": "code",
   "execution_count": 21,
   "id": "e91d73d2",
   "metadata": {},
   "outputs": [
    {
     "data": {
      "text/plain": [
       "array([[[0., 0., 0., ..., 0., 0., 0.],\n",
       "        [0., 0., 0., ..., 0., 0., 0.],\n",
       "        [0., 0., 0., ..., 0., 0., 0.],\n",
       "        ...,\n",
       "        [0., 0., 0., ..., 0., 0., 0.],\n",
       "        [0., 0., 0., ..., 0., 0., 0.],\n",
       "        [0., 0., 0., ..., 0., 0., 0.]]])"
      ]
     },
     "execution_count": 21,
     "metadata": {},
     "output_type": "execute_result"
    }
   ],
   "source": [
    "\n",
    "def prepare_input(text):\n",
    "    x = np.zeros((1, seq_len, len(character)))\n",
    "    for t, char in enumerate(text):\n",
    "        x[0, t, char_indices[char]] = 1.\n",
    "        \n",
    "    return x\n",
    "\n",
    "prepare_input(\"This is an example of input of our model\".lower())"
   ]
  },
  {
   "cell_type": "code",
   "execution_count": 22,
   "id": "6f48499d",
   "metadata": {},
   "outputs": [],
   "source": [
    "#functions to get next probable characters\n",
    "def sample(preds, top_n=3):\n",
    "    preds = np.asarray(preds).astype('float64')\n",
    "    preds = np.log(preds)\n",
    "    exp_preds = np.exp(preds)\n",
    "    preds = exp_preds / np.sum(exp_preds)\n",
    "    \n",
    "    return heapq.nlargest(top_n, range(len(preds)), preds.take)"
   ]
  },
  {
   "cell_type": "code",
   "execution_count": 23,
   "id": "9c891e6e",
   "metadata": {},
   "outputs": [],
   "source": [
    "def predict_completion(text):\n",
    "    original_text = text\n",
    "    generated = text\n",
    "    completion = ''\n",
    "    while True:\n",
    "        x = prepare_input(text)\n",
    "        preds = model.predict(x, verbose=0)[0]\n",
    "        next_index = sample(preds, top_n=1)[0]\n",
    "        next_char = indices_char[next_index]\n",
    "        text = text[1:] + next_char\n",
    "        completion += next_char\n",
    "        \n",
    "        if len(original_text + completion) + 2 > len(original_text) and next_char == ' ':\n",
    "            return completion\n",
    "     "
   ]
  },
  {
   "cell_type": "code",
   "execution_count": 24,
   "id": "6d770603",
   "metadata": {},
   "outputs": [],
   "source": [
    "def predict_completions(text, n=3):\n",
    "    x = prepare_input(text)\n",
    "    preds = model.predict(x, verbose=0)[0]\n",
    "    next_indices = sample(preds, n)\n",
    "    return [indices_char[idx] + predict_completion(text[1:] + indices_char[idx]) for idx in next_indices]\n",
    "     "
   ]
  },
  {
   "cell_type": "code",
   "execution_count": 25,
   "id": "a6f5eea7",
   "metadata": {},
   "outputs": [],
   "source": [
    "\n",
    "#Prediction\n",
    "quotes = [   \n",
    "    \"Deep learning is subset of machine learning,which is essentially a neural network with three or more layers.\",\n",
    "    \"Machine learning  is the study of computer algorithms that improve automatically through experience and by the use of data.\",\n",
    "    \"It is not a lack of love, but a lack of friendship that makes unhappy marriages.\",\n",
    "    \"Recurrent neural network (RNN) is a type of artificial neural network which uses sequential data or time series data.\",\n",
    "    \"Thanks for spending your precious time to view my work.\"  \n",
    "    \n",
    "]"
   ]
  },
  {
   "cell_type": "code",
   "execution_count": 26,
   "id": "1a9cfd82",
   "metadata": {},
   "outputs": [
    {
     "name": "stdout",
     "output_type": "stream",
     "text": [
      "deep learning is subset of machine learn\n",
      "[' to ', 'ing ', 'er ', '.”\\n\\n“i ', 's ']\n",
      "\n",
      "machine learning  is the study of comput\n",
      "['ed ', 'ies ', 'ate ', 'ure ', 'ters ']\n",
      "\n",
      "it is not a lack of love, but a lack of \n",
      "['the ', 'a ', 'her ', 'companion ', 'begner ']\n",
      "\n",
      "recurrent neural network (rnn) is a type\n",
      "['guar ', 'write. ', 'ching ', 'stan ', 'en ']\n",
      "\n",
      "thanks for spending your precious time t\n",
      "['hat ', 'o ', 'alking ', 'ell ', 'raced ']\n",
      "\n"
     ]
    }
   ],
   "source": [
    "for q in quotes:\n",
    "    seq = q[:40].lower()\n",
    "    print(seq)\n",
    "    print(predict_completions(seq, 5))\n",
    "    print()"
   ]
  },
  {
   "cell_type": "code",
   "execution_count": null,
   "id": "c43fda0a",
   "metadata": {},
   "outputs": [],
   "source": []
  }
 ],
 "metadata": {
  "kernelspec": {
   "display_name": "Python 3 (ipykernel)",
   "language": "python",
   "name": "python3"
  },
  "language_info": {
   "codemirror_mode": {
    "name": "ipython",
    "version": 3
   },
   "file_extension": ".py",
   "mimetype": "text/x-python",
   "name": "python",
   "nbconvert_exporter": "python",
   "pygments_lexer": "ipython3",
   "version": "3.9.7"
  }
 },
 "nbformat": 4,
 "nbformat_minor": 5
}
